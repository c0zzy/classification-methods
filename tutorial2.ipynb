{
 "cells": [
  {
   "cell_type": "markdown",
   "metadata": {},
   "source": [
    "# Metrics"
   ]
  },
  {
   "cell_type": "code",
   "execution_count": 54,
   "metadata": {},
   "outputs": [],
   "source": [
    "import numpy as np\n",
    "from sklearn.metrics import classification_report"
   ]
  },
  {
   "cell_type": "code",
   "execution_count": 55,
   "metadata": {},
   "outputs": [],
   "source": [
    "class Metrics:\n",
    "    \n",
    "    def __init__(self, gt):\n",
    "        self.gt = gt\n",
    "        self.n = len(gt)\n",
    "        \n",
    "    def matrix(self, y_pred):\n",
    "        gt = self.gt\n",
    "        tp = np.count_nonzero(np.logical_and(gt == 1, gt == y_pred))\n",
    "        fp = np.count_nonzero(np.logical_and(gt == 0, gt != y_pred))\n",
    "        tn = np.count_nonzero(np.logical_and(gt == 0, gt == y_pred))\n",
    "        fn = np.count_nonzero(np.logical_and(gt == 1, gt != y_pred))\n",
    "        \n",
    "        return tp, fp, tn, fn\n",
    "        \n",
    "    def accuracy(self, y_pred):\n",
    "        tp, fp, tn, fn = self.matrix(y_pred)\n",
    "        return (tp + tn) / self.n\n",
    "    \n",
    "    def false_positives(self, y_pred):\n",
    "        tp, fp, tn, fn = self.matrix(y_pred)\n",
    "        return fp\n",
    "    \n",
    "    def false_negatives(self, y_pred):\n",
    "        tp, fp, tn, fn = self.matrix(y_pred)\n",
    "        return fn\n",
    "    \n",
    "    def recall(self, y_pred):\n",
    "        tp, fp, tn, fn = self.matrix(y_pred)\n",
    "        return tp / (tp + fn)\n",
    "    \n",
    "    def precision(self, y_pred):\n",
    "        tp, fp, tn, fn = self.matrix(y_pred)\n",
    "        return tp / (tp + fp)\n",
    "        \n",
    "    def false_negative_rate(self, y_pred):\n",
    "        tp, fp, tn, fn = self.matrix(y_pred)\n",
    "        return fn / (fn + tp)\n",
    "   \n",
    "    def false_positive_rate(self, y_pred):\n",
    "        tp, fp, tn, fn = self.matrix(y_pred)\n",
    "        return fp / (fp + tn)\n",
    "    \n",
    "    def true_positives(self, y_pred):\n",
    "        tp, fp, tn, fn = self.matrix(y_pred)\n",
    "        return tp\n",
    "             \n",
    "    def true_positive_rate(self, y_pred):\n",
    "        tp, fp, tn, fn = self.matrix(y_pred)\n",
    "        return tp / (tp + fn)"
   ]
  },
  {
   "cell_type": "code",
   "execution_count": 56,
   "metadata": {},
   "outputs": [],
   "source": [
    "path_pred = '/run/media/cozzy/data/FIT-PI/IKM/exc/exc2/data/csv/dataset1_ex_pred.csv'\n",
    "path_y = '/run/media/cozzy/data/FIT-PI/IKM/exc/exc2/data/csv/dataset1_y_tst.csv'\n",
    "pred = np.loadtxt(path_pred, delimiter=',')\n",
    "y = np.loadtxt(path_y, delimiter=',')"
   ]
  },
  {
   "cell_type": "code",
   "execution_count": 57,
   "metadata": {},
   "outputs": [
    {
     "data": {
      "text/plain": [
       "88"
      ]
     },
     "execution_count": 57,
     "metadata": {},
     "output_type": "execute_result"
    }
   ],
   "source": [
    "np.count_nonzero(np.logical_and(y == 1, y == pred))"
   ]
  },
  {
   "cell_type": "code",
   "execution_count": 59,
   "metadata": {},
   "outputs": [
    {
     "data": {
      "text/plain": [
       "{'0.0': {'precision': 0.8536585365853658,\n",
       "  'recall': 0.875,\n",
       "  'f1-score': 0.8641975308641976,\n",
       "  'support': 80},\n",
       " '1.0': {'precision': 0.8979591836734694,\n",
       "  'recall': 0.88,\n",
       "  'f1-score': 0.888888888888889,\n",
       "  'support': 100},\n",
       " 'accuracy': 0.8777777777777778,\n",
       " 'macro avg': {'precision': 0.8758088601294176,\n",
       "  'recall': 0.8775,\n",
       "  'f1-score': 0.8765432098765433,\n",
       "  'support': 180},\n",
       " 'weighted avg': {'precision': 0.8782700071898678,\n",
       "  'recall': 0.8777777777777778,\n",
       "  'f1-score': 0.8779149519890261,\n",
       "  'support': 180}}"
      ]
     },
     "execution_count": 59,
     "metadata": {},
     "output_type": "execute_result"
    }
   ],
   "source": [
    "classification_report(y, pred, output_dict=True)"
   ]
  },
  {
   "cell_type": "code",
   "execution_count": 60,
   "metadata": {},
   "outputs": [
    {
     "name": "stdout",
     "output_type": "stream",
     "text": [
      "accuracy:  0.8777777777777778\n",
      "false_positives:  10\n",
      "false_negatives:  12\n",
      "recall:  0.88\n",
      "precision:  0.8979591836734694\n",
      "false_negative_rate:  0.12\n",
      "false_positive_rate:  0.125\n",
      "true_positives:  88\n",
      "true_positive_rate:  0.88\n"
     ]
    }
   ],
   "source": [
    "print('accuracy: ', metrics.accuracy(pred))\n",
    "print('false_positives: ', metrics.false_positives(pred))\n",
    "print('false_negatives: ', metrics.false_negatives(pred))\n",
    "print('recall: ', metrics.recall(pred))\n",
    "print('precision: ', metrics.precision(pred))\n",
    "print('false_negative_rate: ', metrics.false_negative_rate(pred))\n",
    "print('false_positive_rate: ', metrics.false_positive_rate(pred))\n",
    "print('true_positives: ', metrics.true_positives(pred))\n",
    "print('true_positive_rate: ', metrics.true_positive_rate(pred))"
   ]
  },
  {
   "cell_type": "markdown",
   "metadata": {},
   "source": [
    "# ROC"
   ]
  },
  {
   "cell_type": "code",
   "execution_count": 61,
   "metadata": {},
   "outputs": [],
   "source": [
    "path_data = '/run/media/cozzy/data/FIT-PI/IKM/exc/exc2/data/csv/dataset2_data.csv'\n",
    "path_lab = '/run/media/cozzy/data/FIT-PI/IKM/exc/exc2/data/csv/dataset2_labels.csv'\n",
    "data = np.loadtxt(path_data, delimiter=',')\n",
    "lab = np.loadtxt(path_lab, delimiter=',')"
   ]
  },
  {
   "cell_type": "code",
   "execution_count": 86,
   "metadata": {},
   "outputs": [
    {
     "data": {
      "image/png": "[encoded data removed]",
      "text/plain": [
       "<Figure size 432x288 with 1 Axes>"
      ]
     },
     "metadata": {
      "needs_background": "light"
     },
     "output_type": "display_data"
    }
   ],
   "source": [
    "import matplotlib.mlab as mlab\n",
    "import matplotlib.pyplot as plt\n",
    "\n",
    "num_bins = 16\n",
    "plt.hist(data[np.where(lab == 0)], num_bins, facecolor='blue', alpha=0.5)\n",
    "plt.hist(data[np.where(lab == 1)], num_bins, facecolor='red', alpha=0.5)\n",
    "\n",
    "plt.show()"
   ]
  },
  {
   "cell_type": "code",
   "execution_count": 63,
   "metadata": {},
   "outputs": [],
   "source": [
    "def classify(x, th):\n",
    "    return (x > th).astype(int)\n"
   ]
  },
  {
   "cell_type": "code",
   "execution_count": 64,
   "metadata": {},
   "outputs": [
    {
     "data": {
      "text/plain": [
       "1.5023"
      ]
     },
     "execution_count": 64,
     "metadata": {},
     "output_type": "execute_result"
    }
   ],
   "source": [
    "data.min()\n",
    "data.max()"
   ]
  },
  {
   "cell_type": "code",
   "execution_count": 80,
   "metadata": {},
   "outputs": [
    {
     "data": {
      "text/plain": [
       "[<matplotlib.lines.Line2D at 0x7fd6878431c0>]"
      ]
     },
     "execution_count": 80,
     "metadata": {},
     "output_type": "execute_result"
    },
    {
     "data": {
      "image/png": "[encoded data removed]",
      "text/plain": [
       "<Figure size 504x504 with 1 Axes>"
      ]
     },
     "metadata": {
      "needs_background": "light"
     },
     "output_type": "display_data"
    }
   ],
   "source": [
    "import matplotlib.mlab as mlab\n",
    "import matplotlib.pyplot as plt\n",
    "\n",
    "metrics2 = Metrics(lab)\n",
    "\n",
    "points = []\n",
    "\n",
    "for p in np.linspace(data.min(), data.max(), 50)[1:-1]:\n",
    "    \n",
    "    pred2 = classify(data, p)\n",
    "    fpr = metrics2.false_positive_rate(pred2)\n",
    "    tpr = metrics2.true_positive_rate(pred2)\n",
    "    \n",
    "    points.append([fpr, tpr])\n",
    "    \n",
    "pts = np.array(points)\n",
    "\n",
    "fig = plt.figure(figsize=(7,7))\n",
    "ax = fig.add_subplot(111)\n",
    "ax.set_aspect(1)\n",
    "ax.set_xlabel('FPr')\n",
    "ax.set_ylabel('TPr')\n",
    "plt.title('ROC')\n",
    "plt.plot(pts[:,0], pts[:,1], ds='steps', c='red')"
   ]
  }
 ],
 "metadata": {
  "kernelspec": {
   "display_name": "Python 3",
   "language": "python",
   "name": "python3"
  },
  "language_info": {
   "codemirror_mode": {
    "name": "ipython",
    "version": 3
   },
   "file_extension": ".py",
   "mimetype": "text/x-python",
   "name": "python",
   "nbconvert_exporter": "python",
   "pygments_lexer": "ipython3",
   "version": "3.8.2"
  }
 },
 "nbformat": 4,
 "nbformat_minor": 4
}
