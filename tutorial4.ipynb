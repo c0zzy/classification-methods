{
 "cells": [
  {
   "cell_type": "code",
   "execution_count": 1,
   "metadata": {},
   "outputs": [],
   "source": [
    "import numpy as np\n",
    "import matplotlib.pyplot as plt\n",
    "\n",
    "from sklearn.svm import SVC\n",
    "from sklearn.svm import LinearSVC\n",
    "from sklearn.naive_bayes import MultinomialNB\n",
    "from sklearn.preprocessing import MinMaxScaler\n",
    "from sklearn.metrics import classification_report"
   ]
  },
  {
   "cell_type": "code",
   "execution_count": 2,
   "metadata": {},
   "outputs": [],
   "source": [
    "def load_data(path):\n",
    "    x_train = np.loadtxt(path.format('x_tr'), delimiter=',', skiprows=1)\n",
    "    x_test = np.loadtxt(path.format('x_tst'), delimiter=',', skiprows=1)\n",
    "    y_train = np.loadtxt(path.format('y_tr'), delimiter=',', skiprows=1)\n",
    "    y_test = np.loadtxt(path.format('y_tst'), delimiter=',', skiprows=1)\n",
    "    \n",
    "    return x_train, x_test, y_train, y_test"
   ]
  },
  {
   "cell_type": "markdown",
   "metadata": {},
   "source": [
    "# Task 1\n",
    "## Multiclass SVM"
   ]
  },
  {
   "cell_type": "code",
   "execution_count": 3,
   "metadata": {},
   "outputs": [],
   "source": [
    "class MulticlassSVM:\n",
    "    def fit(self, x, y):\n",
    "        y = y.astype(int)\n",
    "        class_cnt = y.max() - y.min() + 1\n",
    "        one_hot = np.eye(class_cnt)[y]\n",
    "        # treat SVC as if it were for binary classification only\n",
    "        self.learners = [SVC().fit(x, one_hot[:, c]) for c in range(class_cnt)]\n",
    "    \n",
    "    def predict(self, x):\n",
    "        return np.array([l.predict(x) for l in self.learners]).argmax(axis=0).astype(float)\n"
   ]
  },
  {
   "cell_type": "raw",
   "metadata": {
    "jupyter": {
     "source_hidden": true
    }
   },
   "source": [
    "tte"
   ]
  },
  {
   "cell_type": "markdown",
   "metadata": {},
   "source": [
    "Try on dataset 3"
   ]
  },
  {
   "cell_type": "code",
   "execution_count": 4,
   "metadata": {},
   "outputs": [],
   "source": [
    "x_train, x_test, y_train, y_test = load_data('csv/data3_{}.csv')\n",
    "\n",
    "scaler = MinMaxScaler()\n",
    "x_train_norm = scaler.fit_transform(x_train)\n",
    "x_test_norm = scaler.fit_transform(x_test)"
   ]
  },
  {
   "cell_type": "code",
   "execution_count": 5,
   "metadata": {},
   "outputs": [
    {
     "name": "stdout",
     "output_type": "stream",
     "text": [
      "0.9548611111111112\n",
      "{'precision': 0.9685987509758002, 'recall': 0.9549004999554617, 'f1-score': 0.9584702714410118, 'support': 576}\n"
     ]
    }
   ],
   "source": [
    "mult_svm = MulticlassSVM()\n",
    "mult_svm.fit(x_train_norm, y_train)\n",
    "\n",
    "y_pred = mult_svm.predict(x_test_norm)\n",
    "\n",
    "report = classification_report(y_test, y_pred, output_dict=True)\n",
    "print(report['accuracy'])\n",
    "print(report['macro avg'])"
   ]
  },
  {
   "cell_type": "markdown",
   "metadata": {},
   "source": [
    "### Compare different models/implementations"
   ]
  },
  {
   "cell_type": "code",
   "execution_count": 6,
   "metadata": {},
   "outputs": [],
   "source": [
    "classifiers = [MulticlassSVM(), SVC(gamma='auto'), MultinomialNB()]\n",
    "\n",
    "results = {}\n",
    "for clf in classifiers:\n",
    "    name = type(clf).__name__\n",
    "\n",
    "    clf.fit(x_train_norm, y_train)\n",
    "    y_pred = clf.predict(x_test_norm)\n",
    "\n",
    "    report = classification_report(y_test, y_pred, output_dict=True)\n",
    "    results[name] = {}\n",
    "    results[name]['accuracy'] = report['accuracy']\n",
    "    results[name].update(report['macro avg'])    \n",
    "    del results[name]['support']"
   ]
  },
  {
   "cell_type": "code",
   "execution_count": 7,
   "metadata": {},
   "outputs": [
    {
     "name": "stdout",
     "output_type": "stream",
     "text": [
      "model       \taccuracy  \tprecision \trecall    \tf1-score  \n",
      "\n",
      "MulticlassSVM\t0.9548611\t0.9685988\t0.9549005\t0.9584703\n",
      "SVC         \t0.9774306\t0.9798941\t0.9777066\t0.9782037\n",
      "MultinomialNB\t0.9166667\t0.9197667\t0.9186393\t0.9156886\n"
     ]
    }
   ],
   "source": [
    "cols = ['accuracy', 'precision', 'recall', 'f1-score']\n",
    "\n",
    "print(\"{:<12}\\t{:<10}\\t{:<10}\\t{:<10}\\t{:<10}\".format('model', *cols))\n",
    "print()\n",
    "for k, v in results.items():\n",
    "    row = [results[k][m] for m in ['accuracy', 'precision', 'recall', 'f1-score']]\n",
    "    print(\"{:<12}\\t{:.7f}\\t{:.7f}\\t{:.7f}\\t{:.7f}\".format(k, *row))"
   ]
  },
  {
   "cell_type": "code",
   "execution_count": null,
   "metadata": {},
   "outputs": [],
   "source": []
  }
 ],
 "metadata": {
  "kernelspec": {
   "display_name": "Python 3",
   "language": "python",
   "name": "python3"
  },
  "language_info": {
   "codemirror_mode": {
    "name": "ipython",
    "version": 3
   },
   "file_extension": ".py",
   "mimetype": "text/x-python",
   "name": "python",
   "nbconvert_exporter": "python",
   "pygments_lexer": "ipython3",
   "version": "3.8.2"
  }
 },
 "nbformat": 4,
 "nbformat_minor": 4
}
