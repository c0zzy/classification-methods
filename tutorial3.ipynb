{
 "cells": [
  {
   "cell_type": "code",
   "execution_count": 1,
   "metadata": {},
   "outputs": [],
   "source": [
    "import numpy as np\n",
    "import matplotlib.pyplot as plt\n",
    "\n",
    "from sklearn.neighbors import KNeighborsClassifier\n",
    "from sklearn.metrics import f1_score\n",
    "from sklearn.metrics import pairwise_distances"
   ]
  },
  {
   "cell_type": "code",
   "execution_count": 2,
   "metadata": {},
   "outputs": [],
   "source": [
    "def load_data(path):\n",
    "    x_train = np.loadtxt(path.format('x_tr'), delimiter=',', skiprows=1)\n",
    "    x_test = np.loadtxt(path.format('x_tst'), delimiter=',', skiprows=1)\n",
    "    y_train = np.loadtxt(path.format('y_tr'), delimiter=',', skiprows=1)\n",
    "    y_test = np.loadtxt(path.format('y_tst'), delimiter=',', skiprows=1)\n",
    "    \n",
    "    return x_train, x_test, y_train, y_test"
   ]
  },
  {
   "cell_type": "markdown",
   "metadata": {},
   "source": [
    "# Task 2\n",
    "## Precalculate pairwise distance"
   ]
  },
  {
   "cell_type": "code",
   "execution_count": 3,
   "metadata": {},
   "outputs": [],
   "source": [
    "class KNNPrecomputedClasifier:\n",
    "    def __init__(self, x_train, y_train, x_pred):\n",
    "        pair_dist = pairwise_distances(x_train, x_pred)\n",
    "        self.nearest_labels = y_train[np.argsort(pair_dist, axis=0)].astype(int)\n",
    "        \n",
    "    def classify_for_k(self, k):\n",
    "        most_common_gen = (np.bincount(col).argmax() for col in self.nearest_labels[:k].T)\n",
    "        return np.fromiter(most_common_gen, float)"
   ]
  },
  {
   "cell_type": "markdown",
   "metadata": {},
   "source": [
    "Try on dataset 3"
   ]
  },
  {
   "cell_type": "code",
   "execution_count": 4,
   "metadata": {},
   "outputs": [
    {
     "data": {
      "text/plain": [
       "0.9392361111111112"
      ]
     },
     "execution_count": 4,
     "metadata": {},
     "output_type": "execute_result"
    }
   ],
   "source": [
    "x_train, x_test, y_train, y_test = load_data('csv/data3_{}.csv')\n",
    "\n",
    "knn = KNNPrecomputedClasifier(x_train, y_train, x_test)\n",
    "\n",
    "y_pred = knn.classify_for_k(10)\n",
    "f1_score(y_test, y_pred, average='micro')"
   ]
  },
  {
   "cell_type": "markdown",
   "metadata": {},
   "source": [
    "# Task 1\n",
    "## Tune hyperparameter k"
   ]
  },
  {
   "cell_type": "code",
   "execution_count": 5,
   "metadata": {},
   "outputs": [],
   "source": [
    "max_k = 30\n",
    "k_set = list(range(1, max_k + 1))\n",
    "\n",
    "def test_params(data):\n",
    "    x_train, x_test, y_train, y_test = data\n",
    "    knn = KNNPrecomputedClasifier(x_train, y_train, x_test)\n",
    "    \n",
    "    f1_scores = []\n",
    "    for k in k_set:\n",
    "        y_pred = knn.classify_for_k(k)\n",
    "        f1_scores.append(f1_score(y_test, y_pred, average='micro'))\n",
    "        \n",
    "    return np.array(f1_scores)\n",
    "        \n",
    "def eval_params(f1_scores):\n",
    "    best_k = k_set[np.argmax(f1_scores)]\n",
    "    \n",
    "    plt.bar(k_set, f1_scores)\n",
    "    plt.ylim(min(f1_scores) * 0.99, max(f1_scores) * 1.01)\n",
    "    plt.title('Tuning k for k-NN classifier')\n",
    "    plt.xlabel('k')\n",
    "    plt.ylabel('F1 Score')\n",
    "    plt.show()\n",
    "    \n",
    "    print('Best k =', best_k)\n",
    "    return best_k"
   ]
  },
  {
   "cell_type": "code",
   "execution_count": 6,
   "metadata": {},
   "outputs": [
    {
     "data": {
      "image/png": "[encoded data removed]",
      "text/plain": [
       "<Figure size 432x288 with 1 Axes>"
      ]
     },
     "metadata": {
      "needs_background": "light"
     },
     "output_type": "display_data"
    },
    {
     "name": "stdout",
     "output_type": "stream",
     "text": [
      "Best k = 1\n"
     ]
    },
    {
     "data": {
      "image/png": "[encoded data removed]",
      "text/plain": [
       "<Figure size 432x288 with 1 Axes>"
      ]
     },
     "metadata": {
      "needs_background": "light"
     },
     "output_type": "display_data"
    },
    {
     "name": "stdout",
     "output_type": "stream",
     "text": [
      "Best k = 4\n"
     ]
    },
    {
     "data": {
      "text/plain": [
       "4"
      ]
     },
     "execution_count": 6,
     "metadata": {},
     "output_type": "execute_result"
    }
   ],
   "source": [
    "# dataset data1 \n",
    "\n",
    "data1 = load_data('csv/data_{}.csv')\n",
    "f1_scores = test_params(data1)\n",
    "eval_params(f1_scores)\n",
    "\n",
    "# dataset data3\n",
    "\n",
    "data3 = load_data('csv/data3_{}.csv')\n",
    "f1_scores = test_params(data3)\n",
    "eval_params(f1_scores)"
   ]
  },
  {
   "cell_type": "code",
   "execution_count": 7,
   "metadata": {},
   "outputs": [
    {
     "data": {
      "image/png": "[encoded data removed]",
      "text/plain": [
       "<Figure size 432x288 with 1 Axes>"
      ]
     },
     "metadata": {
      "needs_background": "light"
     },
     "output_type": "display_data"
    },
    {
     "name": "stdout",
     "output_type": "stream",
     "text": [
      "Best k = 1\n"
     ]
    },
    {
     "data": {
      "text/plain": [
       "1"
      ]
     },
     "execution_count": 7,
     "metadata": {},
     "output_type": "execute_result"
    }
   ],
   "source": [
    "# data2 is too big for the pairwise distance matrix to fit in the memory\n",
    "\n",
    "splits = 10\n",
    "x_train, x_test, y_train, y_test = load_data('csv/data2_{}.csv')\n",
    "\n",
    "i_train = np.arange(len(x_train))\n",
    "np.random.shuffle(i_train)\n",
    "i_split_train = np.array_split(i_train, splits)\n",
    "\n",
    "i_test = np.arange(len(x_test))\n",
    "np.random.shuffle(i_test)\n",
    "i_split_test = np.array_split(i_test, splits)\n",
    "\n",
    "results = []\n",
    "for i in range(splits):\n",
    "    data = x_train[i_split_train[i]], x_test[i_split_test[i]], y_train[i_split_train[i]], y_test[i_split_test[i]]    \n",
    "    results.append(test_params(data))\n",
    "\n",
    "avg_f1_scores = sum(results) / splits\n",
    "eval_params(avg_f1_scores)"
   ]
  }
 ],
 "metadata": {
  "kernelspec": {
   "display_name": "Python 3",
   "language": "python",
   "name": "python3"
  },
  "language_info": {
   "codemirror_mode": {
    "name": "ipython",
    "version": 3
   },
   "file_extension": ".py",
   "mimetype": "text/x-python",
   "name": "python",
   "nbconvert_exporter": "python",
   "pygments_lexer": "ipython3",
   "version": "3.8.2"
  }
 },
 "nbformat": 4,
 "nbformat_minor": 4
}
