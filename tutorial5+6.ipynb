{
 "cells": [
  {
   "cell_type": "code",
   "execution_count": 1,
   "metadata": {},
   "outputs": [],
   "source": [
    "import numpy as np\n",
    "\n",
    "from scipy import stats\n",
    "from sklearn.utils import resample\n",
    "from sklearn.model_selection import train_test_split\n",
    "from sklearn.neighbors import KNeighborsClassifier\n",
    "from sklearn.metrics import f1_score"
   ]
  },
  {
   "cell_type": "code",
   "execution_count": 2,
   "metadata": {},
   "outputs": [],
   "source": [
    "def load_data(path):\n",
    "    x_train = np.loadtxt(path.format('x_tr'), delimiter=',', skiprows=1)\n",
    "    x_test = np.loadtxt(path.format('x_tst'), delimiter=',', skiprows=1)\n",
    "    y_train = np.loadtxt(path.format('y_tr'), delimiter=',', skiprows=1)\n",
    "    y_test = np.loadtxt(path.format('y_tst'), delimiter=',', skiprows=1)\n",
    "    \n",
    "    return x_train, x_test, y_train, y_test"
   ]
  },
  {
   "cell_type": "code",
   "execution_count": 3,
   "metadata": {},
   "outputs": [],
   "source": [
    "# dataset data3\n",
    "\n",
    "data1 = load_data('csv/data_{}.csv')\n",
    "data2 = load_data('csv/data2_{}.csv')\n",
    "data3 = load_data('csv/data3_{}.csv')"
   ]
  },
  {
   "cell_type": "markdown",
   "metadata": {},
   "source": [
    "# Bagging\n",
    "\n",
    "## Task 1 - Ensemble kNN"
   ]
  },
  {
   "cell_type": "code",
   "execution_count": 4,
   "metadata": {},
   "outputs": [],
   "source": [
    "class Ensemble:\n",
    "    def __init__(self, classifiers):\n",
    "        self.classifiers = classifiers\n",
    "        \n",
    "    def fit(self, x, y):\n",
    "        for clf in self.classifiers:\n",
    "            clf.fit(*resample(x, y))\n",
    "            \n",
    "    def predict(self, x):\n",
    "        predictions = np.array([clf.predict(x) for clf in self.classifiers])\n",
    "        return stats.mode(predictions).mode[0]"
   ]
  },
  {
   "cell_type": "code",
   "execution_count": 5,
   "metadata": {},
   "outputs": [
    {
     "name": "stdout",
     "output_type": "stream",
     "text": [
      "Ensemble F1 score: 0.9357638888888888\n"
     ]
    }
   ],
   "source": [
    "x_train, x_test, y_train, y_test = data3\n",
    "\n",
    "classifiers = [KNeighborsClassifier(n_neighbors=k) for k in [1,3,5,7,9,11,15]]\n",
    "ensemble = Ensemble(classifiers)\n",
    "ensemble.fit(x_train, y_train)\n",
    "\n",
    "predicted = ensemble.predict(x_test)\n",
    "f1 = f1_score(y_test, predicted, average='micro')\n",
    "print('Ensemble F1 score:', f1)"
   ]
  },
  {
   "cell_type": "markdown",
   "metadata": {},
   "source": [
    "## Task 2 - Weighted Ensemble kNN"
   ]
  },
  {
   "cell_type": "code",
   "execution_count": 6,
   "metadata": {},
   "outputs": [],
   "source": [
    "class WeigtedEnsemble(Ensemble):\n",
    "    def fit(self, x, y):\n",
    "        x, x_val, y, y_val = train_test_split(x, y, test_size=0.2)\n",
    "        self.w = np.empty(len(self.classifiers))\n",
    "        for i, clf in enumerate(self.classifiers):\n",
    "            clf.fit(*resample(x, y))\n",
    "            y_pred = clf.predict(x_val)\n",
    "            self.w[i] = f1_score(y_val, y_pred, average='micro')\n",
    "        \n",
    "    def predict(self, x):\n",
    "        def weigted_vote(votes):\n",
    "            return np.bincount(votes.astype(np.int), weights=self.w).argmax()\n",
    "        \n",
    "        predictions = np.array([clf.predict(x) for clf in self.classifiers])\n",
    "        return np.fromiter((weigted_vote(votes) for votes in predictions.T), np.float)"
   ]
  },
  {
   "cell_type": "code",
   "execution_count": 7,
   "metadata": {},
   "outputs": [
    {
     "name": "stdout",
     "output_type": "stream",
     "text": [
      "Weighted ensemble F1 score: 0.9340277777777778\n"
     ]
    }
   ],
   "source": [
    "x_train, x_test, y_train, y_test = data3\n",
    "\n",
    "classifiers = [KNeighborsClassifier(n_neighbors=k) for k in [1,3,5,7,9,11,15]]\n",
    "w_ensemble = WeigtedEnsemble(classifiers)\n",
    "w_ensemble.fit(x_train, y_train)\n",
    "\n",
    "predicted = w_ensemble.predict(x_test)\n",
    "f1 = f1_score(y_test, predicted, average='micro')\n",
    "print('Weighted ensemble F1 score:', f1)"
   ]
  }
 ],
 "metadata": {
  "kernelspec": {
   "display_name": "Python 3",
   "language": "python",
   "name": "python3"
  },
  "language_info": {
   "codemirror_mode": {
    "name": "ipython",
    "version": 3
   },
   "file_extension": ".py",
   "mimetype": "text/x-python",
   "name": "python",
   "nbconvert_exporter": "python",
   "pygments_lexer": "ipython3",
   "version": "3.8.2"
  }
 },
 "nbformat": 4,
 "nbformat_minor": 4
}
